{
  "cells": [
    {
      "cell_type": "code",
      "execution_count": null,
      "metadata": {
        "colab": {
          "base_uri": "https://localhost:8080/"
        },
        "id": "BQ56SVVEp4EA",
        "outputId": "521e2793-2eb9-44ff-9268-ded9cae94167"
      },
      "outputs": [
        {
          "name": "stdout",
          "output_type": "stream",
          "text": [
            "Enter an IP address: 203.0.113.1\n",
            "IP address 203.0.113.1 is flagged as a threat!\n",
            "Category: Exploit\n",
            "Description: IP address involved in exploiting known vulnerabilities\n"
          ]
        }
      ],
      "source": [
        "import numpy as np\n",
        "import pandas as pd\n",
        "\n",
        "# Load threat intelligence data from CSV file\n",
        "threat_data = pd.read_csv('threat.csv')\n",
        "\n",
        "# Preprocess the data\n",
        "# Assuming the CSV file contains columns: 'IP', 'Category', 'Description'\n",
        "# You can modify the columns and preprocessing steps based on your data\n",
        "threat_data['IP'] = threat_data['IP'].astype(str)\n",
        "threat_data['Category'] = threat_data['Category'].astype(str)\n",
        "threat_data['Description'] = threat_data['Description'].astype(str)\n",
        "\n",
        "# Function to check if an IP address is flagged as a threat\n",
        "def check_threat(ip_address):\n",
        "    if ip_address in threat_data['IP'].values:\n",
        "        threat_info = threat_data.loc[threat_data['IP'] == ip_address]\n",
        "        category = threat_info['Category'].values[0]\n",
        "        description = threat_info['Description'].values[0]\n",
        "        return True, category, description\n",
        "    else:\n",
        "        return False, None, None\n",
        "\n",
        "# Take IP address input from the user\n",
        "ip = input(\"Enter an IP address: \")\n",
        "\n",
        "is_threat, category, description = check_threat(ip)\n",
        "\n",
        "if is_threat:\n",
        "    print(f\"IP address {ip} is flagged as a threat!\")\n",
        "    print(f\"Category: {category}\")\n",
        "    print(f\"Description: {description}\")\n",
        "else:\n",
        "    print(f\"IP address {ip} is not flagged as a threat.\")\n"
      ]
    }
  ],
  "metadata": {
    "colab": {
      "provenance": []
    },
    "kernelspec": {
      "display_name": "Python 3",
      "name": "python3"
    },
    "language_info": {
      "name": "python"
    }
  },
  "nbformat": 4,
  "nbformat_minor": 0
}
